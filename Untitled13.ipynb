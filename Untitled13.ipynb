{
  "nbformat": 4,
  "nbformat_minor": 0,
  "metadata": {
    "colab": {
      "provenance": []
    },
    "kernelspec": {
      "name": "python3",
      "display_name": "Python 3"
    },
    "language_info": {
      "name": "python"
    }
  },
  "cells": [
    {
      "cell_type": "code",
      "execution_count": null,
      "metadata": {
        "id": "TTmuQ10SXOB9"
      },
      "outputs": [],
      "source": [
        "class Mahasiswa:\n",
        "    def _init_(self, nim, nama, jenis_kelamin, berkebutuhan_khusus=False):\n",
        "        self.nim = nim\n",
        "        self.nama = nama\n",
        "        self.jenis_kelamin = jenis_kelamin\n",
        "        self.berkebutuhan_khusus = berkebutuhan_khusus\n",
        "\n",
        "class ProgramAdmisi:\n",
        "    def _init_(self):\n",
        "        self.mahasiswa = []\n",
        "\n",
        "    def tambah_mahasiswa(self, mahasiswa):\n",
        "        self.mahasiswa.append(mahasiswa)\n",
        "\n",
        "    def hapus_mahasiswa(self, nim):\n",
        "        self.mahasiswa = [m for m in self.mahasiswa if m.nim != nim]\n",
        "\n",
        "    def tampilkan_semua_mahasiswa(self):\n",
        "        print(\"Daftar Mahasiswa:\")\n",
        "        for m in self.mahasiswa:\n",
        "            print(f\"NIM: {m.nim}, Nama: {m.nama}, Jenis Kelamin: {m.jenis_kelamin}, Berkebutuhan Khusus: {m.berkebutuhan_khusus}\")\n",
        "\n",
        "    def tampilkan_mahasiswa_berkebutuhan_khusus(self):\n",
        "        print(\"Daftar Mahasiswa Berkebutuhan Khusus:\")\n",
        "        for m in self.mahasiswa:\n",
        "            if m.berkebutuhan_khusus:\n",
        "                print(f\"NIM: {m.nim}, Nama: {m.nama}, Jenis Kelamin: {m.jenis_kelamin}, Berkebutuhan Khusus: {m.berkebutuhan_khusus}\")\n",
        "\n",
        "program_admisi = ProgramAdmisi()\n",
        "\n",
        "while True:\n",
        "    print()\n",
        "    print(\"=\"*50)\n",
        "    print(\"Program Admisi Prodi Sains Data\")\n",
        "    print(\"-\"*50)\n",
        "    print(\"1. Tambah Data\")\n",
        "    print(\"2. Hapus Data\")\n",
        "    print(\"3. Tampilkan Semua Data\")\n",
        "    print(\"4. Tampilkan Hanya penyandang disabilitas\")\n",
        "    print(\"5. Keluar\")\n",
        "    pilihan = int(input(\"Masukkan pilihan Anda: \"))\n",
        "\n",
        "    if pilihan == 1:\n",
        "        nim = int(input(\"Masukkan NIM: \"))\n",
        "        nama = input(\"Masukkan Nama: \")\n",
        "        jenis_kelamin = input(\"Masukkan Jenis Kelamin (L/P): \")\n",
        "        bk = bool(input(\"Berkebutuhan Khusus (YES/NO): \"))\n",
        "    else : \n",
        "         bk = bool(input(\"Berkebutuhan Khusus (YES/NO): \"))"
      ]
    },
    {
      "cell_type": "code",
      "source": [],
      "metadata": {
        "id": "2Y_aMqZ7XOxJ"
      },
      "execution_count": null,
      "outputs": []
    }
  ]
}